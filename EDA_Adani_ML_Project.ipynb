{
  "nbformat": 4,
  "nbformat_minor": 0,
  "metadata": {
    "colab": {
      "name": "EDA_Adani_ML_Project.ipynb",
      "provenance": [],
      "collapsed_sections": []
    },
    "kernelspec": {
      "name": "python3",
      "display_name": "Python 3"
    },
    "language_info": {
      "name": "python"
    }
  },
  "cells": [
    {
      "cell_type": "code",
      "execution_count": null,
      "metadata": {
        "id": "LxnnCWNthHfc"
      },
      "outputs": [],
      "source": [
        "import numpy as np\n",
        "import pandas as pd\n",
        "import seaborn as sns\n",
        "import matplotlib.pyplot as plt\n",
        "import sklearn\n",
        "from collections import *\n",
        "from math import sqrt,ceil,log2,floor,pi"
      ]
    },
    {
      "cell_type": "code",
      "source": [
        "default_path = \"/content/drive/MyDrive/StockS_Data/\""
      ],
      "metadata": {
        "id": "FGsjNuAZh-3b"
      },
      "execution_count": null,
      "outputs": []
    },
    {
      "cell_type": "code",
      "source": [
        "df_adani = pd.read_csv(default_path+\"ADANIPORTS.csv\")"
      ],
      "metadata": {
        "id": "FgHF224Sh5Tl"
      },
      "execution_count": null,
      "outputs": []
    },
    {
      "cell_type": "code",
      "source": [
        "df_adani.head(5)"
      ],
      "metadata": {
        "colab": {
          "base_uri": "https://localhost:8080/",
          "height": 206
        },
        "id": "8hV9RFvpieH_",
        "outputId": "afb9db53-f6f3-4672-cd18-1de6bf9d6ba8"
      },
      "execution_count": null,
      "outputs": [
        {
          "output_type": "execute_result",
          "data": {
            "text/plain": [
              "         Date      Symbol Series  Prev Close    Open     High    Low   Last  \\\n",
              "0  2007-11-27  MUNDRAPORT     EQ      440.00  770.00  1050.00  770.0  959.0   \n",
              "1  2007-11-28  MUNDRAPORT     EQ      962.90  984.00   990.00  874.0  885.0   \n",
              "2  2007-11-29  MUNDRAPORT     EQ      893.90  909.00   914.75  841.0  887.0   \n",
              "3  2007-11-30  MUNDRAPORT     EQ      884.20  890.00   958.00  890.0  929.0   \n",
              "4  2007-12-03  MUNDRAPORT     EQ      921.55  939.75   995.00  922.0  980.0   \n",
              "\n",
              "    Close    VWAP    Volume      Turnover  Trades  Deliverable Volume  \\\n",
              "0  962.90  984.72  27294366  2.687719e+15     NaN             9859619   \n",
              "1  893.90  941.38   4581338  4.312765e+14     NaN             1453278   \n",
              "2  884.20  888.09   5124121  4.550658e+14     NaN             1069678   \n",
              "3  921.55  929.17   4609762  4.283257e+14     NaN             1260913   \n",
              "4  969.30  965.65   2977470  2.875200e+14     NaN              816123   \n",
              "\n",
              "   %Deliverble  \n",
              "0       0.3612  \n",
              "1       0.3172  \n",
              "2       0.2088  \n",
              "3       0.2735  \n",
              "4       0.2741  "
            ],
            "text/html": [
              "\n",
              "  <div id=\"df-399a238c-fa65-4b5c-9468-2cbba5b4f0f2\">\n",
              "    <div class=\"colab-df-container\">\n",
              "      <div>\n",
              "<style scoped>\n",
              "    .dataframe tbody tr th:only-of-type {\n",
              "        vertical-align: middle;\n",
              "    }\n",
              "\n",
              "    .dataframe tbody tr th {\n",
              "        vertical-align: top;\n",
              "    }\n",
              "\n",
              "    .dataframe thead th {\n",
              "        text-align: right;\n",
              "    }\n",
              "</style>\n",
              "<table border=\"1\" class=\"dataframe\">\n",
              "  <thead>\n",
              "    <tr style=\"text-align: right;\">\n",
              "      <th></th>\n",
              "      <th>Date</th>\n",
              "      <th>Symbol</th>\n",
              "      <th>Series</th>\n",
              "      <th>Prev Close</th>\n",
              "      <th>Open</th>\n",
              "      <th>High</th>\n",
              "      <th>Low</th>\n",
              "      <th>Last</th>\n",
              "      <th>Close</th>\n",
              "      <th>VWAP</th>\n",
              "      <th>Volume</th>\n",
              "      <th>Turnover</th>\n",
              "      <th>Trades</th>\n",
              "      <th>Deliverable Volume</th>\n",
              "      <th>%Deliverble</th>\n",
              "    </tr>\n",
              "  </thead>\n",
              "  <tbody>\n",
              "    <tr>\n",
              "      <th>0</th>\n",
              "      <td>2007-11-27</td>\n",
              "      <td>MUNDRAPORT</td>\n",
              "      <td>EQ</td>\n",
              "      <td>440.00</td>\n",
              "      <td>770.00</td>\n",
              "      <td>1050.00</td>\n",
              "      <td>770.0</td>\n",
              "      <td>959.0</td>\n",
              "      <td>962.90</td>\n",
              "      <td>984.72</td>\n",
              "      <td>27294366</td>\n",
              "      <td>2.687719e+15</td>\n",
              "      <td>NaN</td>\n",
              "      <td>9859619</td>\n",
              "      <td>0.3612</td>\n",
              "    </tr>\n",
              "    <tr>\n",
              "      <th>1</th>\n",
              "      <td>2007-11-28</td>\n",
              "      <td>MUNDRAPORT</td>\n",
              "      <td>EQ</td>\n",
              "      <td>962.90</td>\n",
              "      <td>984.00</td>\n",
              "      <td>990.00</td>\n",
              "      <td>874.0</td>\n",
              "      <td>885.0</td>\n",
              "      <td>893.90</td>\n",
              "      <td>941.38</td>\n",
              "      <td>4581338</td>\n",
              "      <td>4.312765e+14</td>\n",
              "      <td>NaN</td>\n",
              "      <td>1453278</td>\n",
              "      <td>0.3172</td>\n",
              "    </tr>\n",
              "    <tr>\n",
              "      <th>2</th>\n",
              "      <td>2007-11-29</td>\n",
              "      <td>MUNDRAPORT</td>\n",
              "      <td>EQ</td>\n",
              "      <td>893.90</td>\n",
              "      <td>909.00</td>\n",
              "      <td>914.75</td>\n",
              "      <td>841.0</td>\n",
              "      <td>887.0</td>\n",
              "      <td>884.20</td>\n",
              "      <td>888.09</td>\n",
              "      <td>5124121</td>\n",
              "      <td>4.550658e+14</td>\n",
              "      <td>NaN</td>\n",
              "      <td>1069678</td>\n",
              "      <td>0.2088</td>\n",
              "    </tr>\n",
              "    <tr>\n",
              "      <th>3</th>\n",
              "      <td>2007-11-30</td>\n",
              "      <td>MUNDRAPORT</td>\n",
              "      <td>EQ</td>\n",
              "      <td>884.20</td>\n",
              "      <td>890.00</td>\n",
              "      <td>958.00</td>\n",
              "      <td>890.0</td>\n",
              "      <td>929.0</td>\n",
              "      <td>921.55</td>\n",
              "      <td>929.17</td>\n",
              "      <td>4609762</td>\n",
              "      <td>4.283257e+14</td>\n",
              "      <td>NaN</td>\n",
              "      <td>1260913</td>\n",
              "      <td>0.2735</td>\n",
              "    </tr>\n",
              "    <tr>\n",
              "      <th>4</th>\n",
              "      <td>2007-12-03</td>\n",
              "      <td>MUNDRAPORT</td>\n",
              "      <td>EQ</td>\n",
              "      <td>921.55</td>\n",
              "      <td>939.75</td>\n",
              "      <td>995.00</td>\n",
              "      <td>922.0</td>\n",
              "      <td>980.0</td>\n",
              "      <td>969.30</td>\n",
              "      <td>965.65</td>\n",
              "      <td>2977470</td>\n",
              "      <td>2.875200e+14</td>\n",
              "      <td>NaN</td>\n",
              "      <td>816123</td>\n",
              "      <td>0.2741</td>\n",
              "    </tr>\n",
              "  </tbody>\n",
              "</table>\n",
              "</div>\n",
              "      <button class=\"colab-df-convert\" onclick=\"convertToInteractive('df-399a238c-fa65-4b5c-9468-2cbba5b4f0f2')\"\n",
              "              title=\"Convert this dataframe to an interactive table.\"\n",
              "              style=\"display:none;\">\n",
              "        \n",
              "  <svg xmlns=\"http://www.w3.org/2000/svg\" height=\"24px\"viewBox=\"0 0 24 24\"\n",
              "       width=\"24px\">\n",
              "    <path d=\"M0 0h24v24H0V0z\" fill=\"none\"/>\n",
              "    <path d=\"M18.56 5.44l.94 2.06.94-2.06 2.06-.94-2.06-.94-.94-2.06-.94 2.06-2.06.94zm-11 1L8.5 8.5l.94-2.06 2.06-.94-2.06-.94L8.5 2.5l-.94 2.06-2.06.94zm10 10l.94 2.06.94-2.06 2.06-.94-2.06-.94-.94-2.06-.94 2.06-2.06.94z\"/><path d=\"M17.41 7.96l-1.37-1.37c-.4-.4-.92-.59-1.43-.59-.52 0-1.04.2-1.43.59L10.3 9.45l-7.72 7.72c-.78.78-.78 2.05 0 2.83L4 21.41c.39.39.9.59 1.41.59.51 0 1.02-.2 1.41-.59l7.78-7.78 2.81-2.81c.8-.78.8-2.07 0-2.86zM5.41 20L4 18.59l7.72-7.72 1.47 1.35L5.41 20z\"/>\n",
              "  </svg>\n",
              "      </button>\n",
              "      \n",
              "  <style>\n",
              "    .colab-df-container {\n",
              "      display:flex;\n",
              "      flex-wrap:wrap;\n",
              "      gap: 12px;\n",
              "    }\n",
              "\n",
              "    .colab-df-convert {\n",
              "      background-color: #E8F0FE;\n",
              "      border: none;\n",
              "      border-radius: 50%;\n",
              "      cursor: pointer;\n",
              "      display: none;\n",
              "      fill: #1967D2;\n",
              "      height: 32px;\n",
              "      padding: 0 0 0 0;\n",
              "      width: 32px;\n",
              "    }\n",
              "\n",
              "    .colab-df-convert:hover {\n",
              "      background-color: #E2EBFA;\n",
              "      box-shadow: 0px 1px 2px rgba(60, 64, 67, 0.3), 0px 1px 3px 1px rgba(60, 64, 67, 0.15);\n",
              "      fill: #174EA6;\n",
              "    }\n",
              "\n",
              "    [theme=dark] .colab-df-convert {\n",
              "      background-color: #3B4455;\n",
              "      fill: #D2E3FC;\n",
              "    }\n",
              "\n",
              "    [theme=dark] .colab-df-convert:hover {\n",
              "      background-color: #434B5C;\n",
              "      box-shadow: 0px 1px 3px 1px rgba(0, 0, 0, 0.15);\n",
              "      filter: drop-shadow(0px 1px 2px rgba(0, 0, 0, 0.3));\n",
              "      fill: #FFFFFF;\n",
              "    }\n",
              "  </style>\n",
              "\n",
              "      <script>\n",
              "        const buttonEl =\n",
              "          document.querySelector('#df-399a238c-fa65-4b5c-9468-2cbba5b4f0f2 button.colab-df-convert');\n",
              "        buttonEl.style.display =\n",
              "          google.colab.kernel.accessAllowed ? 'block' : 'none';\n",
              "\n",
              "        async function convertToInteractive(key) {\n",
              "          const element = document.querySelector('#df-399a238c-fa65-4b5c-9468-2cbba5b4f0f2');\n",
              "          const dataTable =\n",
              "            await google.colab.kernel.invokeFunction('convertToInteractive',\n",
              "                                                     [key], {});\n",
              "          if (!dataTable) return;\n",
              "\n",
              "          const docLinkHtml = 'Like what you see? Visit the ' +\n",
              "            '<a target=\"_blank\" href=https://colab.research.google.com/notebooks/data_table.ipynb>data table notebook</a>'\n",
              "            + ' to learn more about interactive tables.';\n",
              "          element.innerHTML = '';\n",
              "          dataTable['output_type'] = 'display_data';\n",
              "          await google.colab.output.renderOutput(dataTable, element);\n",
              "          const docLink = document.createElement('div');\n",
              "          docLink.innerHTML = docLinkHtml;\n",
              "          element.appendChild(docLink);\n",
              "        }\n",
              "      </script>\n",
              "    </div>\n",
              "  </div>\n",
              "  "
            ]
          },
          "metadata": {},
          "execution_count": 4
        }
      ]
    },
    {
      "cell_type": "code",
      "source": [
        "Counter(list(df_adani[\"Symbol\"]))"
      ],
      "metadata": {
        "colab": {
          "base_uri": "https://localhost:8080/"
        },
        "id": "SQqFF_HLihM-",
        "outputId": "206f8f02-a7c3-44a7-d61c-8d2d5677c359"
      },
      "execution_count": null,
      "outputs": [
        {
          "output_type": "execute_result",
          "data": {
            "text/plain": [
              "Counter({'ADANIPORTS': 2299, 'MUNDRAPORT': 1023})"
            ]
          },
          "metadata": {},
          "execution_count": 5
        }
      ]
    },
    {
      "cell_type": "code",
      "source": [
        "df_adani = df_adani.fillna(df_adani.mean())"
      ],
      "metadata": {
        "colab": {
          "base_uri": "https://localhost:8080/"
        },
        "id": "IgsgHO-6nBEB",
        "outputId": "4c52128d-fdc2-4f2f-e809-9cdba822b039"
      },
      "execution_count": null,
      "outputs": [
        {
          "output_type": "stream",
          "name": "stderr",
          "text": [
            "/usr/local/lib/python3.7/dist-packages/ipykernel_launcher.py:1: FutureWarning: Dropping of nuisance columns in DataFrame reductions (with 'numeric_only=None') is deprecated; in a future version this will raise TypeError.  Select only valid columns before calling the reduction.\n",
            "  \"\"\"Entry point for launching an IPython kernel.\n"
          ]
        }
      ]
    },
    {
      "cell_type": "code",
      "source": [
        "df_adani[\"Trades\"].isna().sum()"
      ],
      "metadata": {
        "colab": {
          "base_uri": "https://localhost:8080/"
        },
        "id": "6CuFLABVnIIy",
        "outputId": "170ebb12-45f3-4cea-8a1b-2d3cdad55969"
      },
      "execution_count": null,
      "outputs": [
        {
          "output_type": "execute_result",
          "data": {
            "text/plain": [
              "0"
            ]
          },
          "metadata": {},
          "execution_count": 7
        }
      ]
    },
    {
      "cell_type": "code",
      "source": [
        "sns.heatmap(df_adani.corr(),cmap='Blues',annot = True)\n",
        "plt.show()"
      ],
      "metadata": {
        "colab": {
          "base_uri": "https://localhost:8080/",
          "height": 357
        },
        "id": "KduYLtWXnX22",
        "outputId": "5c5012de-f185-4299-a0c6-fc50866f96ca"
      },
      "execution_count": null,
      "outputs": [
        {
          "output_type": "display_data",
          "data": {
            "text/plain": [
              "<Figure size 432x288 with 2 Axes>"
            ],
            "image/png": "[encoded data removed]"
          },
          "metadata": {
            "needs_background": "light"
          }
        }
      ]
    },
    {
      "cell_type": "code",
      "source": [
        "# list(df_adani_adani.columns)\n",
        "new_list= list(df_adani.columns)\n",
        "new_list = new_list[3:10]"
      ],
      "metadata": {
        "id": "Sd30SbZ8pqWE"
      },
      "execution_count": null,
      "outputs": []
    },
    {
      "cell_type": "code",
      "source": [
        "data2 = df_adani.copy(deep=True)"
      ],
      "metadata": {
        "id": "zdCjCtueqR3F"
      },
      "execution_count": null,
      "outputs": []
    },
    {
      "cell_type": "code",
      "source": [
        "n = len(new_list);\n",
        "for i in range(n-1):\n",
        "    for j in range(i+1,n):\n",
        "        strs = new_list[i]+\"-\"+new_list[j]\n",
        "        data2[strs] = data2[new_list[i]] - data2[new_list[j]]\n",
        "    \n"
      ],
      "metadata": {
        "id": "GKvBbMUNqGxa"
      },
      "execution_count": null,
      "outputs": []
    },
    {
      "cell_type": "code",
      "source": [
        "len(data2.columns)\n"
      ],
      "metadata": {
        "colab": {
          "base_uri": "https://localhost:8080/"
        },
        "id": "mcBANdrLo3md",
        "outputId": "7d8e97bb-c5f7-48b2-c583-94066e542231"
      },
      "execution_count": null,
      "outputs": [
        {
          "output_type": "execute_result",
          "data": {
            "text/plain": [
              "36"
            ]
          },
          "metadata": {},
          "execution_count": 12
        }
      ]
    },
    {
      "cell_type": "code",
      "source": [
        "data2 = data2.drop(labels= list(df_adani.columns),axis = 1)"
      ],
      "metadata": {
        "id": "oqsElQfMq-6b"
      },
      "execution_count": null,
      "outputs": []
    },
    {
      "cell_type": "code",
      "source": [
        "df_adani.describe()"
      ],
      "metadata": {
        "colab": {
          "base_uri": "https://localhost:8080/",
          "height": 300
        },
        "id": "ZJbSn5DzrmN3",
        "outputId": "7bfe1c2e-cdc3-4690-ef86-88ef17991ba7"
      },
      "execution_count": null,
      "outputs": [
        {
          "output_type": "execute_result",
          "data": {
            "text/plain": [
              "        Prev Close         Open         High          Low         Last  \\\n",
              "count  3322.000000  3322.000000  3322.000000  3322.000000  3322.000000   \n",
              "mean    344.114314   344.763019   351.608007   337.531969   344.239539   \n",
              "std     192.936882   193.619992   198.617808   188.676614   193.187813   \n",
              "min     108.000000   108.000000   110.450000   105.650000   108.000000   \n",
              "25%     164.312500   164.850000   168.000000   161.600000   164.075000   \n",
              "50%     324.700000   325.750000   331.275000   319.850000   325.000000   \n",
              "75%     400.912500   401.000000   407.187500   395.000000   400.912500   \n",
              "max    1307.450000  1310.250000  1324.000000  1270.000000  1308.000000   \n",
              "\n",
              "             Close         VWAP        Volume      Turnover        Trades  \\\n",
              "count  3322.000000  3322.000000  3.322000e+03  3.322000e+03  3.322000e+03   \n",
              "mean    344.201626   344.853182  2.954564e+06  1.070144e+14  4.492259e+04   \n",
              "std     193.045886   193.841305  4.104227e+06  2.625564e+14  4.318821e+04   \n",
              "min     108.000000   108.340000  1.236600e+04  2.415857e+11  3.660000e+02   \n",
              "25%     164.312500   164.855000  7.493682e+05  1.817650e+13  2.643650e+04   \n",
              "50%     324.700000   325.765000  2.007292e+06  5.836041e+13  4.492259e+04   \n",
              "75%     400.912500   400.607500  3.636883e+06  1.158526e+14  4.585475e+04   \n",
              "max    1307.450000  1302.150000  9.771788e+07  8.160988e+15  1.205984e+06   \n",
              "\n",
              "       Deliverable Volume  %Deliverble  \n",
              "count        3.322000e+03  3322.000000  \n",
              "mean         1.207441e+06     0.445899  \n",
              "std          1.398640e+06     0.160496  \n",
              "min          5.383000e+03     0.067000  \n",
              "25%          3.212005e+05     0.332900  \n",
              "50%          8.132775e+05     0.445650  \n",
              "75%          1.605528e+06     0.555850  \n",
              "max          2.241652e+07     0.979800  "
            ],
            "text/html": [
              "\n",
              "  <div id=\"df-60152c07-458c-4510-a3aa-66747308313e\">\n",
              "    <div class=\"colab-df-container\">\n",
              "      <div>\n",
              "<style scoped>\n",
              "    .dataframe tbody tr th:only-of-type {\n",
              "        vertical-align: middle;\n",
              "    }\n",
              "\n",
              "    .dataframe tbody tr th {\n",
              "        vertical-align: top;\n",
              "    }\n",
              "\n",
              "    .dataframe thead th {\n",
              "        text-align: right;\n",
              "    }\n",
              "</style>\n",
              "<table border=\"1\" class=\"dataframe\">\n",
              "  <thead>\n",
              "    <tr style=\"text-align: right;\">\n",
              "      <th></th>\n",
              "      <th>Prev Close</th>\n",
              "      <th>Open</th>\n",
              "      <th>High</th>\n",
              "      <th>Low</th>\n",
              "      <th>Last</th>\n",
              "      <th>Close</th>\n",
              "      <th>VWAP</th>\n",
              "      <th>Volume</th>\n",
              "      <th>Turnover</th>\n",
              "      <th>Trades</th>\n",
              "      <th>Deliverable Volume</th>\n",
              "      <th>%Deliverble</th>\n",
              "    </tr>\n",
              "  </thead>\n",
              "  <tbody>\n",
              "    <tr>\n",
              "      <th>count</th>\n",
              "      <td>3322.000000</td>\n",
              "      <td>3322.000000</td>\n",
              "      <td>3322.000000</td>\n",
              "      <td>3322.000000</td>\n",
              "      <td>3322.000000</td>\n",
              "      <td>3322.000000</td>\n",
              "      <td>3322.000000</td>\n",
              "      <td>3.322000e+03</td>\n",
              "      <td>3.322000e+03</td>\n",
              "      <td>3.322000e+03</td>\n",
              "      <td>3.322000e+03</td>\n",
              "      <td>3322.000000</td>\n",
              "    </tr>\n",
              "    <tr>\n",
              "      <th>mean</th>\n",
              "      <td>344.114314</td>\n",
              "      <td>344.763019</td>\n",
              "      <td>351.608007</td>\n",
              "      <td>337.531969</td>\n",
              "      <td>344.239539</td>\n",
              "      <td>344.201626</td>\n",
              "      <td>344.853182</td>\n",
              "      <td>2.954564e+06</td>\n",
              "      <td>1.070144e+14</td>\n",
              "      <td>4.492259e+04</td>\n",
              "      <td>1.207441e+06</td>\n",
              "      <td>0.445899</td>\n",
              "    </tr>\n",
              "    <tr>\n",
              "      <th>std</th>\n",
              "      <td>192.936882</td>\n",
              "      <td>193.619992</td>\n",
              "      <td>198.617808</td>\n",
              "      <td>188.676614</td>\n",
              "      <td>193.187813</td>\n",
              "      <td>193.045886</td>\n",
              "      <td>193.841305</td>\n",
              "      <td>4.104227e+06</td>\n",
              "      <td>2.625564e+14</td>\n",
              "      <td>4.318821e+04</td>\n",
              "      <td>1.398640e+06</td>\n",
              "      <td>0.160496</td>\n",
              "    </tr>\n",
              "    <tr>\n",
              "      <th>min</th>\n",
              "      <td>108.000000</td>\n",
              "      <td>108.000000</td>\n",
              "      <td>110.450000</td>\n",
              "      <td>105.650000</td>\n",
              "      <td>108.000000</td>\n",
              "      <td>108.000000</td>\n",
              "      <td>108.340000</td>\n",
              "      <td>1.236600e+04</td>\n",
              "      <td>2.415857e+11</td>\n",
              "      <td>3.660000e+02</td>\n",
              "      <td>5.383000e+03</td>\n",
              "      <td>0.067000</td>\n",
              "    </tr>\n",
              "    <tr>\n",
              "      <th>25%</th>\n",
              "      <td>164.312500</td>\n",
              "      <td>164.850000</td>\n",
              "      <td>168.000000</td>\n",
              "      <td>161.600000</td>\n",
              "      <td>164.075000</td>\n",
              "      <td>164.312500</td>\n",
              "      <td>164.855000</td>\n",
              "      <td>7.493682e+05</td>\n",
              "      <td>1.817650e+13</td>\n",
              "      <td>2.643650e+04</td>\n",
              "      <td>3.212005e+05</td>\n",
              "      <td>0.332900</td>\n",
              "    </tr>\n",
              "    <tr>\n",
              "      <th>50%</th>\n",
              "      <td>324.700000</td>\n",
              "      <td>325.750000</td>\n",
              "      <td>331.275000</td>\n",
              "      <td>319.850000</td>\n",
              "      <td>325.000000</td>\n",
              "      <td>324.700000</td>\n",
              "      <td>325.765000</td>\n",
              "      <td>2.007292e+06</td>\n",
              "      <td>5.836041e+13</td>\n",
              "      <td>4.492259e+04</td>\n",
              "      <td>8.132775e+05</td>\n",
              "      <td>0.445650</td>\n",
              "    </tr>\n",
              "    <tr>\n",
              "      <th>75%</th>\n",
              "      <td>400.912500</td>\n",
              "      <td>401.000000</td>\n",
              "      <td>407.187500</td>\n",
              "      <td>395.000000</td>\n",
              "      <td>400.912500</td>\n",
              "      <td>400.912500</td>\n",
              "      <td>400.607500</td>\n",
              "      <td>3.636883e+06</td>\n",
              "      <td>1.158526e+14</td>\n",
              "      <td>4.585475e+04</td>\n",
              "      <td>1.605528e+06</td>\n",
              "      <td>0.555850</td>\n",
              "    </tr>\n",
              "    <tr>\n",
              "      <th>max</th>\n",
              "      <td>1307.450000</td>\n",
              "      <td>1310.250000</td>\n",
              "      <td>1324.000000</td>\n",
              "      <td>1270.000000</td>\n",
              "      <td>1308.000000</td>\n",
              "      <td>1307.450000</td>\n",
              "      <td>1302.150000</td>\n",
              "      <td>9.771788e+07</td>\n",
              "      <td>8.160988e+15</td>\n",
              "      <td>1.205984e+06</td>\n",
              "      <td>2.241652e+07</td>\n",
              "      <td>0.979800</td>\n",
              "    </tr>\n",
              "  </tbody>\n",
              "</table>\n",
              "</div>\n",
              "      <button class=\"colab-df-convert\" onclick=\"convertToInteractive('df-60152c07-458c-4510-a3aa-66747308313e')\"\n",
              "              title=\"Convert this dataframe to an interactive table.\"\n",
              "              style=\"display:none;\">\n",
              "        \n",
              "  <svg xmlns=\"http://www.w3.org/2000/svg\" height=\"24px\"viewBox=\"0 0 24 24\"\n",
              "       width=\"24px\">\n",
              "    <path d=\"M0 0h24v24H0V0z\" fill=\"none\"/>\n",
              "    <path d=\"M18.56 5.44l.94 2.06.94-2.06 2.06-.94-2.06-.94-.94-2.06-.94 2.06-2.06.94zm-11 1L8.5 8.5l.94-2.06 2.06-.94-2.06-.94L8.5 2.5l-.94 2.06-2.06.94zm10 10l.94 2.06.94-2.06 2.06-.94-2.06-.94-.94-2.06-.94 2.06-2.06.94z\"/><path d=\"M17.41 7.96l-1.37-1.37c-.4-.4-.92-.59-1.43-.59-.52 0-1.04.2-1.43.59L10.3 9.45l-7.72 7.72c-.78.78-.78 2.05 0 2.83L4 21.41c.39.39.9.59 1.41.59.51 0 1.02-.2 1.41-.59l7.78-7.78 2.81-2.81c.8-.78.8-2.07 0-2.86zM5.41 20L4 18.59l7.72-7.72 1.47 1.35L5.41 20z\"/>\n",
              "  </svg>\n",
              "      </button>\n",
              "      \n",
              "  <style>\n",
              "    .colab-df-container {\n",
              "      display:flex;\n",
              "      flex-wrap:wrap;\n",
              "      gap: 12px;\n",
              "    }\n",
              "\n",
              "    .colab-df-convert {\n",
              "      background-color: #E8F0FE;\n",
              "      border: none;\n",
              "      border-radius: 50%;\n",
              "      cursor: pointer;\n",
              "      display: none;\n",
              "      fill: #1967D2;\n",
              "      height: 32px;\n",
              "      padding: 0 0 0 0;\n",
              "      width: 32px;\n",
              "    }\n",
              "\n",
              "    .colab-df-convert:hover {\n",
              "      background-color: #E2EBFA;\n",
              "      box-shadow: 0px 1px 2px rgba(60, 64, 67, 0.3), 0px 1px 3px 1px rgba(60, 64, 67, 0.15);\n",
              "      fill: #174EA6;\n",
              "    }\n",
              "\n",
              "    [theme=dark] .colab-df-convert {\n",
              "      background-color: #3B4455;\n",
              "      fill: #D2E3FC;\n",
              "    }\n",
              "\n",
              "    [theme=dark] .colab-df-convert:hover {\n",
              "      background-color: #434B5C;\n",
              "      box-shadow: 0px 1px 3px 1px rgba(0, 0, 0, 0.15);\n",
              "      filter: drop-shadow(0px 1px 2px rgba(0, 0, 0, 0.3));\n",
              "      fill: #FFFFFF;\n",
              "    }\n",
              "  </style>\n",
              "\n",
              "      <script>\n",
              "        const buttonEl =\n",
              "          document.querySelector('#df-60152c07-458c-4510-a3aa-66747308313e button.colab-df-convert');\n",
              "        buttonEl.style.display =\n",
              "          google.colab.kernel.accessAllowed ? 'block' : 'none';\n",
              "\n",
              "        async function convertToInteractive(key) {\n",
              "          const element = document.querySelector('#df-60152c07-458c-4510-a3aa-66747308313e');\n",
              "          const dataTable =\n",
              "            await google.colab.kernel.invokeFunction('convertToInteractive',\n",
              "                                                     [key], {});\n",
              "          if (!dataTable) return;\n",
              "\n",
              "          const docLinkHtml = 'Like what you see? Visit the ' +\n",
              "            '<a target=\"_blank\" href=https://colab.research.google.com/notebooks/data_table.ipynb>data table notebook</a>'\n",
              "            + ' to learn more about interactive tables.';\n",
              "          element.innerHTML = '';\n",
              "          dataTable['output_type'] = 'display_data';\n",
              "          await google.colab.output.renderOutput(dataTable, element);\n",
              "          const docLink = document.createElement('div');\n",
              "          docLink.innerHTML = docLinkHtml;\n",
              "          element.appendChild(docLink);\n",
              "        }\n",
              "      </script>\n",
              "    </div>\n",
              "  </div>\n",
              "  "
            ]
          },
          "metadata": {},
          "execution_count": 14
        }
      ]
    },
    {
      "cell_type": "code",
      "source": [
        "df_adani.describe()"
      ],
      "metadata": {
        "id": "awHh4Ax34pyL",
        "outputId": "5c11adcd-7025-4955-ac69-d8a8eefabc95",
        "colab": {
          "base_uri": "https://localhost:8080/",
          "height": 300
        }
      },
      "execution_count": null,
      "outputs": [
        {
          "output_type": "execute_result",
          "data": {
            "text/plain": [
              "        Prev Close         Open         High          Low         Last  \\\n",
              "count  3322.000000  3322.000000  3322.000000  3322.000000  3322.000000   \n",
              "mean    344.114314   344.763019   351.608007   337.531969   344.239539   \n",
              "std     192.936882   193.619992   198.617808   188.676614   193.187813   \n",
              "min     108.000000   108.000000   110.450000   105.650000   108.000000   \n",
              "25%     164.312500   164.850000   168.000000   161.600000   164.075000   \n",
              "50%     324.700000   325.750000   331.275000   319.850000   325.000000   \n",
              "75%     400.912500   401.000000   407.187500   395.000000   400.912500   \n",
              "max    1307.450000  1310.250000  1324.000000  1270.000000  1308.000000   \n",
              "\n",
              "             Close         VWAP        Volume      Turnover        Trades  \\\n",
              "count  3322.000000  3322.000000  3.322000e+03  3.322000e+03  3.322000e+03   \n",
              "mean    344.201626   344.853182  2.954564e+06  1.070144e+14  4.492259e+04   \n",
              "std     193.045886   193.841305  4.104227e+06  2.625564e+14  4.318821e+04   \n",
              "min     108.000000   108.340000  1.236600e+04  2.415857e+11  3.660000e+02   \n",
              "25%     164.312500   164.855000  7.493682e+05  1.817650e+13  2.643650e+04   \n",
              "50%     324.700000   325.765000  2.007292e+06  5.836041e+13  4.492259e+04   \n",
              "75%     400.912500   400.607500  3.636883e+06  1.158526e+14  4.585475e+04   \n",
              "max    1307.450000  1302.150000  9.771788e+07  8.160988e+15  1.205984e+06   \n",
              "\n",
              "       Deliverable Volume  %Deliverble  \n",
              "count        3.322000e+03  3322.000000  \n",
              "mean         1.207441e+06     0.445899  \n",
              "std          1.398640e+06     0.160496  \n",
              "min          5.383000e+03     0.067000  \n",
              "25%          3.212005e+05     0.332900  \n",
              "50%          8.132775e+05     0.445650  \n",
              "75%          1.605528e+06     0.555850  \n",
              "max          2.241652e+07     0.979800  "
            ],
            "text/html": [
              "\n",
              "  <div id=\"df-4d55ef13-8dbd-4f44-aaf1-c44b1a9e1b5d\">\n",
              "    <div class=\"colab-df-container\">\n",
              "      <div>\n",
              "<style scoped>\n",
              "    .dataframe tbody tr th:only-of-type {\n",
              "        vertical-align: middle;\n",
              "    }\n",
              "\n",
              "    .dataframe tbody tr th {\n",
              "        vertical-align: top;\n",
              "    }\n",
              "\n",
              "    .dataframe thead th {\n",
              "        text-align: right;\n",
              "    }\n",
              "</style>\n",
              "<table border=\"1\" class=\"dataframe\">\n",
              "  <thead>\n",
              "    <tr style=\"text-align: right;\">\n",
              "      <th></th>\n",
              "      <th>Prev Close</th>\n",
              "      <th>Open</th>\n",
              "      <th>High</th>\n",
              "      <th>Low</th>\n",
              "      <th>Last</th>\n",
              "      <th>Close</th>\n",
              "      <th>VWAP</th>\n",
              "      <th>Volume</th>\n",
              "      <th>Turnover</th>\n",
              "      <th>Trades</th>\n",
              "      <th>Deliverable Volume</th>\n",
              "      <th>%Deliverble</th>\n",
              "    </tr>\n",
              "  </thead>\n",
              "  <tbody>\n",
              "    <tr>\n",
              "      <th>count</th>\n",
              "      <td>3322.000000</td>\n",
              "      <td>3322.000000</td>\n",
              "      <td>3322.000000</td>\n",
              "      <td>3322.000000</td>\n",
              "      <td>3322.000000</td>\n",
              "      <td>3322.000000</td>\n",
              "      <td>3322.000000</td>\n",
              "      <td>3.322000e+03</td>\n",
              "      <td>3.322000e+03</td>\n",
              "      <td>3.322000e+03</td>\n",
              "      <td>3.322000e+03</td>\n",
              "      <td>3322.000000</td>\n",
              "    </tr>\n",
              "    <tr>\n",
              "      <th>mean</th>\n",
              "      <td>344.114314</td>\n",
              "      <td>344.763019</td>\n",
              "      <td>351.608007</td>\n",
              "      <td>337.531969</td>\n",
              "      <td>344.239539</td>\n",
              "      <td>344.201626</td>\n",
              "      <td>344.853182</td>\n",
              "      <td>2.954564e+06</td>\n",
              "      <td>1.070144e+14</td>\n",
              "      <td>4.492259e+04</td>\n",
              "      <td>1.207441e+06</td>\n",
              "      <td>0.445899</td>\n",
              "    </tr>\n",
              "    <tr>\n",
              "      <th>std</th>\n",
              "      <td>192.936882</td>\n",
              "      <td>193.619992</td>\n",
              "      <td>198.617808</td>\n",
              "      <td>188.676614</td>\n",
              "      <td>193.187813</td>\n",
              "      <td>193.045886</td>\n",
              "      <td>193.841305</td>\n",
              "      <td>4.104227e+06</td>\n",
              "      <td>2.625564e+14</td>\n",
              "      <td>4.318821e+04</td>\n",
              "      <td>1.398640e+06</td>\n",
              "      <td>0.160496</td>\n",
              "    </tr>\n",
              "    <tr>\n",
              "      <th>min</th>\n",
              "      <td>108.000000</td>\n",
              "      <td>108.000000</td>\n",
              "      <td>110.450000</td>\n",
              "      <td>105.650000</td>\n",
              "      <td>108.000000</td>\n",
              "      <td>108.000000</td>\n",
              "      <td>108.340000</td>\n",
              "      <td>1.236600e+04</td>\n",
              "      <td>2.415857e+11</td>\n",
              "      <td>3.660000e+02</td>\n",
              "      <td>5.383000e+03</td>\n",
              "      <td>0.067000</td>\n",
              "    </tr>\n",
              "    <tr>\n",
              "      <th>25%</th>\n",
              "      <td>164.312500</td>\n",
              "      <td>164.850000</td>\n",
              "      <td>168.000000</td>\n",
              "      <td>161.600000</td>\n",
              "      <td>164.075000</td>\n",
              "      <td>164.312500</td>\n",
              "      <td>164.855000</td>\n",
              "      <td>7.493682e+05</td>\n",
              "      <td>1.817650e+13</td>\n",
              "      <td>2.643650e+04</td>\n",
              "      <td>3.212005e+05</td>\n",
              "      <td>0.332900</td>\n",
              "    </tr>\n",
              "    <tr>\n",
              "      <th>50%</th>\n",
              "      <td>324.700000</td>\n",
              "      <td>325.750000</td>\n",
              "      <td>331.275000</td>\n",
              "      <td>319.850000</td>\n",
              "      <td>325.000000</td>\n",
              "      <td>324.700000</td>\n",
              "      <td>325.765000</td>\n",
              "      <td>2.007292e+06</td>\n",
              "      <td>5.836041e+13</td>\n",
              "      <td>4.492259e+04</td>\n",
              "      <td>8.132775e+05</td>\n",
              "      <td>0.445650</td>\n",
              "    </tr>\n",
              "    <tr>\n",
              "      <th>75%</th>\n",
              "      <td>400.912500</td>\n",
              "      <td>401.000000</td>\n",
              "      <td>407.187500</td>\n",
              "      <td>395.000000</td>\n",
              "      <td>400.912500</td>\n",
              "      <td>400.912500</td>\n",
              "      <td>400.607500</td>\n",
              "      <td>3.636883e+06</td>\n",
              "      <td>1.158526e+14</td>\n",
              "      <td>4.585475e+04</td>\n",
              "      <td>1.605528e+06</td>\n",
              "      <td>0.555850</td>\n",
              "    </tr>\n",
              "    <tr>\n",
              "      <th>max</th>\n",
              "      <td>1307.450000</td>\n",
              "      <td>1310.250000</td>\n",
              "      <td>1324.000000</td>\n",
              "      <td>1270.000000</td>\n",
              "      <td>1308.000000</td>\n",
              "      <td>1307.450000</td>\n",
              "      <td>1302.150000</td>\n",
              "      <td>9.771788e+07</td>\n",
              "      <td>8.160988e+15</td>\n",
              "      <td>1.205984e+06</td>\n",
              "      <td>2.241652e+07</td>\n",
              "      <td>0.979800</td>\n",
              "    </tr>\n",
              "  </tbody>\n",
              "</table>\n",
              "</div>\n",
              "      <button class=\"colab-df-convert\" onclick=\"convertToInteractive('df-4d55ef13-8dbd-4f44-aaf1-c44b1a9e1b5d')\"\n",
              "              title=\"Convert this dataframe to an interactive table.\"\n",
              "              style=\"display:none;\">\n",
              "        \n",
              "  <svg xmlns=\"http://www.w3.org/2000/svg\" height=\"24px\"viewBox=\"0 0 24 24\"\n",
              "       width=\"24px\">\n",
              "    <path d=\"M0 0h24v24H0V0z\" fill=\"none\"/>\n",
              "    <path d=\"M18.56 5.44l.94 2.06.94-2.06 2.06-.94-2.06-.94-.94-2.06-.94 2.06-2.06.94zm-11 1L8.5 8.5l.94-2.06 2.06-.94-2.06-.94L8.5 2.5l-.94 2.06-2.06.94zm10 10l.94 2.06.94-2.06 2.06-.94-2.06-.94-.94-2.06-.94 2.06-2.06.94z\"/><path d=\"M17.41 7.96l-1.37-1.37c-.4-.4-.92-.59-1.43-.59-.52 0-1.04.2-1.43.59L10.3 9.45l-7.72 7.72c-.78.78-.78 2.05 0 2.83L4 21.41c.39.39.9.59 1.41.59.51 0 1.02-.2 1.41-.59l7.78-7.78 2.81-2.81c.8-.78.8-2.07 0-2.86zM5.41 20L4 18.59l7.72-7.72 1.47 1.35L5.41 20z\"/>\n",
              "  </svg>\n",
              "      </button>\n",
              "      \n",
              "  <style>\n",
              "    .colab-df-container {\n",
              "      display:flex;\n",
              "      flex-wrap:wrap;\n",
              "      gap: 12px;\n",
              "    }\n",
              "\n",
              "    .colab-df-convert {\n",
              "      background-color: #E8F0FE;\n",
              "      border: none;\n",
              "      border-radius: 50%;\n",
              "      cursor: pointer;\n",
              "      display: none;\n",
              "      fill: #1967D2;\n",
              "      height: 32px;\n",
              "      padding: 0 0 0 0;\n",
              "      width: 32px;\n",
              "    }\n",
              "\n",
              "    .colab-df-convert:hover {\n",
              "      background-color: #E2EBFA;\n",
              "      box-shadow: 0px 1px 2px rgba(60, 64, 67, 0.3), 0px 1px 3px 1px rgba(60, 64, 67, 0.15);\n",
              "      fill: #174EA6;\n",
              "    }\n",
              "\n",
              "    [theme=dark] .colab-df-convert {\n",
              "      background-color: #3B4455;\n",
              "      fill: #D2E3FC;\n",
              "    }\n",
              "\n",
              "    [theme=dark] .colab-df-convert:hover {\n",
              "      background-color: #434B5C;\n",
              "      box-shadow: 0px 1px 3px 1px rgba(0, 0, 0, 0.15);\n",
              "      filter: drop-shadow(0px 1px 2px rgba(0, 0, 0, 0.3));\n",
              "      fill: #FFFFFF;\n",
              "    }\n",
              "  </style>\n",
              "\n",
              "      <script>\n",
              "        const buttonEl =\n",
              "          document.querySelector('#df-4d55ef13-8dbd-4f44-aaf1-c44b1a9e1b5d button.colab-df-convert');\n",
              "        buttonEl.style.display =\n",
              "          google.colab.kernel.accessAllowed ? 'block' : 'none';\n",
              "\n",
              "        async function convertToInteractive(key) {\n",
              "          const element = document.querySelector('#df-4d55ef13-8dbd-4f44-aaf1-c44b1a9e1b5d');\n",
              "          const dataTable =\n",
              "            await google.colab.kernel.invokeFunction('convertToInteractive',\n",
              "                                                     [key], {});\n",
              "          if (!dataTable) return;\n",
              "\n",
              "          const docLinkHtml = 'Like what you see? Visit the ' +\n",
              "            '<a target=\"_blank\" href=https://colab.research.google.com/notebooks/data_table.ipynb>data table notebook</a>'\n",
              "            + ' to learn more about interactive tables.';\n",
              "          element.innerHTML = '';\n",
              "          dataTable['output_type'] = 'display_data';\n",
              "          await google.colab.output.renderOutput(dataTable, element);\n",
              "          const docLink = document.createElement('div');\n",
              "          docLink.innerHTML = docLinkHtml;\n",
              "          element.appendChild(docLink);\n",
              "        }\n",
              "      </script>\n",
              "    </div>\n",
              "  </div>\n",
              "  "
            ]
          },
          "metadata": {},
          "execution_count": 15
        }
      ]
    },
    {
      "cell_type": "code",
      "source": [
        "sns.heatmap(data2.iloc[:,10:21].corr(),cmap = \"Blues\",annot = True)"
      ],
      "metadata": {
        "colab": {
          "base_uri": "https://localhost:8080/",
          "height": 337
        },
        "id": "NnrDhU1DrV8f",
        "outputId": "202eaa98-b90a-4095-cc26-5734a729b5f6"
      },
      "execution_count": null,
      "outputs": [
        {
          "output_type": "execute_result",
          "data": {
            "text/plain": [
              "<matplotlib.axes._subplots.AxesSubplot at 0x7f330dca6c10>"
            ]
          },
          "metadata": {},
          "execution_count": 16
        },
        {
          "output_type": "display_data",
          "data": {
            "text/plain": [
              "<Figure size 432x288 with 2 Axes>"
            ],
            "image/png": "[encoded data removed]"
          },
          "metadata": {
            "needs_background": "light"
          }
        }
      ]
    },
    {
      "cell_type": "code",
      "source": [
        "plt.scatter(x = df_adani[\"Date\"],y = df_adani[\"Close\"])\n",
        "plt.xlabel(\"Date\")\n",
        "plt.ylabel(\"Closing Price\")\n",
        "plt.show()\n"
      ],
      "metadata": {
        "colab": {
          "base_uri": "https://localhost:8080/",
          "height": 54
        },
        "id": "cr69Lk6EFGJS",
        "outputId": "dbbadb3c-0f48-4dfa-ac0e-a04f01cd9783"
      },
      "execution_count": null,
      "outputs": [
        {
          "output_type": "display_data",
          "data": {
            "text/plain": [
              "<Figure size 432x288 with 1 Axes>"
            ],
            "image/png": "[encoded data removed]"
          },
          "metadata": {
            "needs_background": "light"
          }
        }
      ]
    },
    {
      "cell_type": "code",
      "source": [
        "df_adani[\"Date\"][:5]"
      ],
      "metadata": {
        "id": "Kl7o159vIa5L",
        "colab": {
          "base_uri": "https://localhost:8080/"
        },
        "outputId": "0e2533c1-9c22-44d1-b92d-720cff3984ea"
      },
      "execution_count": null,
      "outputs": [
        {
          "output_type": "execute_result",
          "data": {
            "text/plain": [
              "0    2007-11-27\n",
              "1    2007-11-28\n",
              "2    2007-11-29\n",
              "3    2007-11-30\n",
              "4    2007-12-03\n",
              "Name: Date, dtype: object"
            ]
          },
          "metadata": {},
          "execution_count": 18
        }
      ]
    },
    {
      "cell_type": "code",
      "source": [
        "from datetime import datetime\n",
        "df_adani[\"My date\"] = pd.to_datetime(df_adani[\"Date\"],format = \"%Y-%m-%d\")\n"
      ],
      "metadata": {
        "id": "tbGVW-hxPZEx"
      },
      "execution_count": null,
      "outputs": []
    },
    {
      "cell_type": "code",
      "source": [
        "dates = df_adani[\"My date\"]\n",
        "df_adani.drop(columns=[\"My date\"],axis = 1,inplace=True)"
      ],
      "metadata": {
        "id": "D9PZoDgfP6LN"
      },
      "execution_count": null,
      "outputs": []
    },
    {
      "cell_type": "code",
      "source": [
        "df_adani.head(3)"
      ],
      "metadata": {
        "colab": {
          "base_uri": "https://localhost:8080/",
          "height": 143
        },
        "id": "-11AbMx1RNga",
        "outputId": "01535258-16eb-4db9-b821-5706306caaa8"
      },
      "execution_count": null,
      "outputs": [
        {
          "output_type": "execute_result",
          "data": {
            "text/plain": [
              "         Date      Symbol Series  Prev Close   Open     High    Low   Last  \\\n",
              "0  2007-11-27  MUNDRAPORT     EQ       440.0  770.0  1050.00  770.0  959.0   \n",
              "1  2007-11-28  MUNDRAPORT     EQ       962.9  984.0   990.00  874.0  885.0   \n",
              "2  2007-11-29  MUNDRAPORT     EQ       893.9  909.0   914.75  841.0  887.0   \n",
              "\n",
              "   Close    VWAP    Volume      Turnover        Trades  Deliverable Volume  \\\n",
              "0  962.9  984.72  27294366  2.687719e+15  44922.588355             9859619   \n",
              "1  893.9  941.38   4581338  4.312765e+14  44922.588355             1453278   \n",
              "2  884.2  888.09   5124121  4.550658e+14  44922.588355             1069678   \n",
              "\n",
              "   %Deliverble  \n",
              "0       0.3612  \n",
              "1       0.3172  \n",
              "2       0.2088  "
            ],
            "text/html": [
              "\n",
              "  <div id=\"df-d25a5f40-74c7-4747-ab47-ce55390e3eb1\">\n",
              "    <div class=\"colab-df-container\">\n",
              "      <div>\n",
              "<style scoped>\n",
              "    .dataframe tbody tr th:only-of-type {\n",
              "        vertical-align: middle;\n",
              "    }\n",
              "\n",
              "    .dataframe tbody tr th {\n",
              "        vertical-align: top;\n",
              "    }\n",
              "\n",
              "    .dataframe thead th {\n",
              "        text-align: right;\n",
              "    }\n",
              "</style>\n",
              "<table border=\"1\" class=\"dataframe\">\n",
              "  <thead>\n",
              "    <tr style=\"text-align: right;\">\n",
              "      <th></th>\n",
              "      <th>Date</th>\n",
              "      <th>Symbol</th>\n",
              "      <th>Series</th>\n",
              "      <th>Prev Close</th>\n",
              "      <th>Open</th>\n",
              "      <th>High</th>\n",
              "      <th>Low</th>\n",
              "      <th>Last</th>\n",
              "      <th>Close</th>\n",
              "      <th>VWAP</th>\n",
              "      <th>Volume</th>\n",
              "      <th>Turnover</th>\n",
              "      <th>Trades</th>\n",
              "      <th>Deliverable Volume</th>\n",
              "      <th>%Deliverble</th>\n",
              "    </tr>\n",
              "  </thead>\n",
              "  <tbody>\n",
              "    <tr>\n",
              "      <th>0</th>\n",
              "      <td>2007-11-27</td>\n",
              "      <td>MUNDRAPORT</td>\n",
              "      <td>EQ</td>\n",
              "      <td>440.0</td>\n",
              "      <td>770.0</td>\n",
              "      <td>1050.00</td>\n",
              "      <td>770.0</td>\n",
              "      <td>959.0</td>\n",
              "      <td>962.9</td>\n",
              "      <td>984.72</td>\n",
              "      <td>27294366</td>\n",
              "      <td>2.687719e+15</td>\n",
              "      <td>44922.588355</td>\n",
              "      <td>9859619</td>\n",
              "      <td>0.3612</td>\n",
              "    </tr>\n",
              "    <tr>\n",
              "      <th>1</th>\n",
              "      <td>2007-11-28</td>\n",
              "      <td>MUNDRAPORT</td>\n",
              "      <td>EQ</td>\n",
              "      <td>962.9</td>\n",
              "      <td>984.0</td>\n",
              "      <td>990.00</td>\n",
              "      <td>874.0</td>\n",
              "      <td>885.0</td>\n",
              "      <td>893.9</td>\n",
              "      <td>941.38</td>\n",
              "      <td>4581338</td>\n",
              "      <td>4.312765e+14</td>\n",
              "      <td>44922.588355</td>\n",
              "      <td>1453278</td>\n",
              "      <td>0.3172</td>\n",
              "    </tr>\n",
              "    <tr>\n",
              "      <th>2</th>\n",
              "      <td>2007-11-29</td>\n",
              "      <td>MUNDRAPORT</td>\n",
              "      <td>EQ</td>\n",
              "      <td>893.9</td>\n",
              "      <td>909.0</td>\n",
              "      <td>914.75</td>\n",
              "      <td>841.0</td>\n",
              "      <td>887.0</td>\n",
              "      <td>884.2</td>\n",
              "      <td>888.09</td>\n",
              "      <td>5124121</td>\n",
              "      <td>4.550658e+14</td>\n",
              "      <td>44922.588355</td>\n",
              "      <td>1069678</td>\n",
              "      <td>0.2088</td>\n",
              "    </tr>\n",
              "  </tbody>\n",
              "</table>\n",
              "</div>\n",
              "      <button class=\"colab-df-convert\" onclick=\"convertToInteractive('df-d25a5f40-74c7-4747-ab47-ce55390e3eb1')\"\n",
              "              title=\"Convert this dataframe to an interactive table.\"\n",
              "              style=\"display:none;\">\n",
              "        \n",
              "  <svg xmlns=\"http://www.w3.org/2000/svg\" height=\"24px\"viewBox=\"0 0 24 24\"\n",
              "       width=\"24px\">\n",
              "    <path d=\"M0 0h24v24H0V0z\" fill=\"none\"/>\n",
              "    <path d=\"M18.56 5.44l.94 2.06.94-2.06 2.06-.94-2.06-.94-.94-2.06-.94 2.06-2.06.94zm-11 1L8.5 8.5l.94-2.06 2.06-.94-2.06-.94L8.5 2.5l-.94 2.06-2.06.94zm10 10l.94 2.06.94-2.06 2.06-.94-2.06-.94-.94-2.06-.94 2.06-2.06.94z\"/><path d=\"M17.41 7.96l-1.37-1.37c-.4-.4-.92-.59-1.43-.59-.52 0-1.04.2-1.43.59L10.3 9.45l-7.72 7.72c-.78.78-.78 2.05 0 2.83L4 21.41c.39.39.9.59 1.41.59.51 0 1.02-.2 1.41-.59l7.78-7.78 2.81-2.81c.8-.78.8-2.07 0-2.86zM5.41 20L4 18.59l7.72-7.72 1.47 1.35L5.41 20z\"/>\n",
              "  </svg>\n",
              "      </button>\n",
              "      \n",
              "  <style>\n",
              "    .colab-df-container {\n",
              "      display:flex;\n",
              "      flex-wrap:wrap;\n",
              "      gap: 12px;\n",
              "    }\n",
              "\n",
              "    .colab-df-convert {\n",
              "      background-color: #E8F0FE;\n",
              "      border: none;\n",
              "      border-radius: 50%;\n",
              "      cursor: pointer;\n",
              "      display: none;\n",
              "      fill: #1967D2;\n",
              "      height: 32px;\n",
              "      padding: 0 0 0 0;\n",
              "      width: 32px;\n",
              "    }\n",
              "\n",
              "    .colab-df-convert:hover {\n",
              "      background-color: #E2EBFA;\n",
              "      box-shadow: 0px 1px 2px rgba(60, 64, 67, 0.3), 0px 1px 3px 1px rgba(60, 64, 67, 0.15);\n",
              "      fill: #174EA6;\n",
              "    }\n",
              "\n",
              "    [theme=dark] .colab-df-convert {\n",
              "      background-color: #3B4455;\n",
              "      fill: #D2E3FC;\n",
              "    }\n",
              "\n",
              "    [theme=dark] .colab-df-convert:hover {\n",
              "      background-color: #434B5C;\n",
              "      box-shadow: 0px 1px 3px 1px rgba(0, 0, 0, 0.15);\n",
              "      filter: drop-shadow(0px 1px 2px rgba(0, 0, 0, 0.3));\n",
              "      fill: #FFFFFF;\n",
              "    }\n",
              "  </style>\n",
              "\n",
              "      <script>\n",
              "        const buttonEl =\n",
              "          document.querySelector('#df-d25a5f40-74c7-4747-ab47-ce55390e3eb1 button.colab-df-convert');\n",
              "        buttonEl.style.display =\n",
              "          google.colab.kernel.accessAllowed ? 'block' : 'none';\n",
              "\n",
              "        async function convertToInteractive(key) {\n",
              "          const element = document.querySelector('#df-d25a5f40-74c7-4747-ab47-ce55390e3eb1');\n",
              "          const dataTable =\n",
              "            await google.colab.kernel.invokeFunction('convertToInteractive',\n",
              "                                                     [key], {});\n",
              "          if (!dataTable) return;\n",
              "\n",
              "          const docLinkHtml = 'Like what you see? Visit the ' +\n",
              "            '<a target=\"_blank\" href=https://colab.research.google.com/notebooks/data_table.ipynb>data table notebook</a>'\n",
              "            + ' to learn more about interactive tables.';\n",
              "          element.innerHTML = '';\n",
              "          dataTable['output_type'] = 'display_data';\n",
              "          await google.colab.output.renderOutput(dataTable, element);\n",
              "          const docLink = document.createElement('div');\n",
              "          docLink.innerHTML = docLinkHtml;\n",
              "          element.appendChild(docLink);\n",
              "        }\n",
              "      </script>\n",
              "    </div>\n",
              "  </div>\n",
              "  "
            ]
          },
          "metadata": {},
          "execution_count": 26
        }
      ]
    },
    {
      "cell_type": "code",
      "source": [
        "dates\n"
      ],
      "metadata": {
        "colab": {
          "base_uri": "https://localhost:8080/"
        },
        "id": "u5o-IYbqRPjH",
        "outputId": "81ed68f6-5f62-4edf-a04d-c2e16b6acd7f"
      },
      "execution_count": null,
      "outputs": [
        {
          "output_type": "execute_result",
          "data": {
            "text/plain": [
              "0      2007-11-27\n",
              "1      2007-11-28\n",
              "2      2007-11-29\n",
              "3      2007-11-30\n",
              "4      2007-12-03\n",
              "          ...    \n",
              "3317   2021-04-26\n",
              "3318   2021-04-27\n",
              "3319   2021-04-28\n",
              "3320   2021-04-29\n",
              "3321   2021-04-30\n",
              "Name: My date, Length: 3322, dtype: datetime64[ns]"
            ]
          },
          "metadata": {},
          "execution_count": 27
        }
      ]
    },
    {
      "cell_type": "code",
      "source": [
        "diff_dates=[]\n",
        "for i in range(len(dates) - 1):\n",
        "    diff_dates.append((dates[i+1] - dates[i]).days)\n",
        "    alpha = (dates[i+1] - dates[i]).days\n",
        "    # if(alpha==4):\n",
        "    #     print(dates[i],dates[i+1])\n",
        "print(Counter(diff_dates))\n",
        "# '''\n",
        "# Counter(diff_dates) stores count of difference between two different dates for example if 20 times consecutive dates in stock market differ by 1 day then it\n",
        "# will key,value pair: (1,20)\n",
        "# diff_dates stores difference b/w two consecutive dates\n",
        "# '''\n"
      ],
      "metadata": {
        "colab": {
          "base_uri": "https://localhost:8080/"
        },
        "id": "zwCPpiadRSAw",
        "outputId": "546608fa-3643-45ca-ee2a-69f7fdddc7ba"
      },
      "execution_count": null,
      "outputs": [
        {
          "output_type": "stream",
          "name": "stdout",
          "text": [
            "Counter({1: 2522, 3: 609, 2: 108, 4: 73, 5: 8, 6: 1})\n"
          ]
        }
      ]
    },
    {
      "cell_type": "code",
      "source": [
        ""
      ],
      "metadata": {
        "id": "5ItSzm4pRVxM"
      },
      "execution_count": null,
      "outputs": []
    }
  ]
}