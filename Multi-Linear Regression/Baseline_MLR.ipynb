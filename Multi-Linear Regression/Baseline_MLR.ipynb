{
  "nbformat": 4,
  "nbformat_minor": 0,
  "metadata": {
    "colab": {
      "name": "Baseline: MLR.ipynb",
      "provenance": [],
      "collapsed_sections": []
    },
    "kernelspec": {
      "name": "python3",
      "display_name": "Python 3"
    },
    "language_info": {
      "name": "python"
    }
  },
  "cells": [
    {
      "cell_type": "code",
      "source": [
        "### Drive Access\n",
        "\n",
        "from google.colab import drive\n",
        "drive.mount('/content/drive')"
      ],
      "metadata": {
        "colab": {
          "base_uri": "https://localhost:8080/"
        },
        "id": "JPztqc-PVHoA",
        "outputId": "4cdb8b91-73f2-40e3-8e3a-14f1e2e5789a"
      },
      "execution_count": null,
      "outputs": [
        {
          "output_type": "stream",
          "name": "stdout",
          "text": [
            "Mounted at /content/drive\n"
          ]
        }
      ]
    },
    {
      "cell_type": "code",
      "execution_count": null,
      "metadata": {
        "id": "NofAQ5oz6k93"
      },
      "outputs": [],
      "source": [
        "### Importing the necessary libraries\n",
        "\n",
        "import warnings\n",
        "import sys\n",
        "import io\n",
        "import pandas as pd \n",
        "import numpy as np \n",
        "import matplotlib.pyplot as plt\n",
        "import seaborn as sns\n",
        "import pickle\n",
        "from matplotlib import pyplot\n",
        "from sklearn import datasets\n",
        "from sklearn.model_selection import train_test_split \n",
        "from sklearn.model_selection import GridSearchCV\n",
        "from sklearn.model_selection import KFold\n",
        "from sklearn.linear_model import Lasso,Ridge\n",
        "from sklearn.decomposition import PCA\n",
        "import matplotlib.pyplot as plt\n",
        "from sklearn.preprocessing import StandardScaler\n",
        "from sklearn.preprocessing import MinMaxScaler\n",
        "from sklearn.linear_model import LinearRegression\n",
        "from sklearn.metrics import r2_score\n",
        "from sklearn.metrics import mean_squared_error\n",
        "from google.colab import drive\n",
        "from google.colab import files\n",
        "from collections import *\n",
        "from math import sqrt,ceil,log2,floor,pi\n",
        "from datetime import datetime\n",
        "from copy import deepcopy\n",
        "\n",
        "warnings.filterwarnings(\"ignore\")\n",
        "\n",
        "### Reading the csv file\n",
        "\n",
        "np.random.seed(0)\n",
        "notebookpath = \"/content/drive/MyDrive/Colab Notebooks/SMA STD Bol Upper,Lower and also some extra new features.csv\"\n",
        "df = pd.read_csv(notebookpath)\n",
        "#df"
      ]
    },
    {
      "cell_type": "code",
      "source": [
        "### Function for calculating RMSE Range\n",
        "\n",
        "def calculate_rmse_range(y_true,y_pred,left_r,right_r):\n",
        "    # >left_r and <=right_r\n",
        "    n_samples = 0;\n",
        "    y_truen = []\n",
        "    y_predn=[]\n",
        "    maxval = max(y_true)\n",
        "    minval = min(y_true)\n",
        "    for i in range(len(y_true)):\n",
        "        score = (y_true[i] - minval)/(maxval - minval)\n",
        "        if score>=left_r and score<=right_r:\n",
        "            y_truen.append(y_true[i])\n",
        "            y_predn.append(y_pred[i])\n",
        "    if len(y_truen)>0:\n",
        "        # print(minval,maxval)\n",
        "        print((maxval-minval)*left_r+minval,(maxval-minval)*right_r+minval)\n",
        "        return sqrt(mean_squared_error(y_truen,y_predn))\n",
        "    return 0"
      ],
      "metadata": {
        "id": "Qe7MY3TNQPFc"
      },
      "execution_count": null,
      "outputs": []
    },
    {
      "cell_type": "code",
      "source": [
        "### Dropping less relevant columns\n",
        "\n",
        "df = df.drop(columns = ['Symbol','Series','Volume','VWAP','Deliverable Volume','%Deliverble'], axis = 1)"
      ],
      "metadata": {
        "id": "U8j5BuhMJcDV"
      },
      "execution_count": null,
      "outputs": []
    },
    {
      "cell_type": "code",
      "source": [
        "### Preprocessing data for Multiple Linear Regression\n",
        "\n",
        "lastcol = len(df.columns)\n",
        "dfnum = df[df.columns[list(range(2,lastcol))]]\n",
        "cols = list(dfnum.columns)\n",
        "meantrades = df['Trades'].mean()\n",
        "#print(meantrades)\n",
        "df['Trades'].fillna(value=meantrades, inplace=True)\n",
        "#print(cols)\n",
        "#print(dfnum)\n",
        "dfscaled = pd.DataFrame(df, columns = cols)\n",
        "dfscaled.head()\n",
        "targetfeature = 'Close'\n",
        "#dfscaled.columns"
      ],
      "metadata": {
        "id": "kHw5RyLn7bRW"
      },
      "execution_count": null,
      "outputs": []
    },
    {
      "cell_type": "code",
      "source": [
        "### Performing Multi-linear Regression for different time windows\n",
        "\n",
        "windows = [5*i for i in range(1,5)]\n",
        "tsterr, trainerr,valerr = [], [], []\n",
        "error_on_low=[]\n",
        "error_on_mid=[]\n",
        "error_on_high=[]\n",
        "j = 0;\n",
        "\n",
        "for window in windows:\n",
        "  #Transform Function for making windows\n",
        "  def transform(dfscaled, win):\n",
        "    df2 = deepcopy(dfscaled)\n",
        "    col = df2.columns\n",
        "    for i in range(2, win+1):\n",
        "      for c in col:\n",
        "        df2[c+str(i)] = df2[c].shift(-(i-1)) #stepback i-1 times\n",
        "        df2['Close'+str(win+1)] = df2['Close'].shift(-(win)) #stepback i-1 times\n",
        "    return df2\n",
        "  print(\"window\"+str(window))\n",
        "  df2 = transform(dfscaled, window)\n",
        "  df2 = df2.dropna()\n",
        "  # print(df2)\n",
        "  # df2.drop(columns = [])\n",
        "    \n",
        "  MLR = LinearRegression()\n",
        "\n",
        "  #Splitting the dataset\n",
        "  trainn = deepcopy(df2.loc[0:1900])\n",
        "  valt = deepcopy(df2.loc[1900:2100])\n",
        "  testt = deepcopy(df2.loc[2100:2300])\n",
        "  trainnY = trainn[\"Close\"+str(window+1)].values\n",
        "  del trainn[\"Close\"+str(window+1)]\n",
        "  trainn.drop(columns=[])\n",
        "  trainnX = trainn.values.astype(np.float64)\n",
        "  valtY = testt[\"Close\"+str(window+1)].values\n",
        "  del valt[\"Close\"+str(window+1)]\n",
        "  valtX = valt.values.astype(np.float64)\n",
        "  testtY = testt[\"Close\"+str(window+1)].values\n",
        "  del testt[\"Close\"+str(window+1)]\n",
        "  testtX = testt.values.astype(np.float64) \n",
        "  # print(\"trainnx\")\n",
        "  # print(trainnX)\n",
        "  # print(trainnX.shape)\n",
        "  # print(\"trainny\")\n",
        "  # print(trainnY)\n",
        "  # print(\"testtx\")\n",
        "  # print(testtX)\n",
        "  # print(testtX.shape)\n",
        "  # print(\"testtY\")\n",
        "  # print(testtY)\n",
        "  modela = PCA(n_components = 35*(j+1))\n",
        "  # trainnX=modela.fit_transform(trainnX)\n",
        "  MLR.fit(trainnX, trainnY)\n",
        "  trainp = MLR.predict(trainnX)\n",
        "  # testtX = modela.transform(testtX)\n",
        "  # valtX = modela.transform(valtX)\n",
        "  testp = MLR.predict(testtX)\n",
        "  valp = MLR.predict(valtX)\n",
        "\n",
        "  trainerr.append(sqrt(mean_squared_error(trainnY, trainp)))\n",
        "  tsterr.append(sqrt(mean_squared_error(testtY, testp))) \n",
        "  valerr.append(sqrt(mean_squared_error(valtY,valp)))\n",
        "  print(\"Range of Closing price for Low:\")\n",
        "  err1 = calculate_rmse_range(testtY,testp,0,0.35)\n",
        "  print(\"Range of Closing price for Mid:\")\n",
        "  err2 = calculate_rmse_range(testtY,testp,0.35,0.7)\n",
        "  print(\"Range of Closing price for High:\")\n",
        "  err3 = calculate_rmse_range(testtY,testp,0.7,1)\n",
        "  error_on_low.append(err1)\n",
        "  error_on_mid.append(err2)\n",
        "  error_on_high.append(err3)\n",
        "  #print(testp)\n",
        "  #print(testpp)\n",
        "  print(\"Test Error on different ranges of close price :\")\n",
        "  outt = \"{:.2f} {:.2f} {:.2f}\"\n",
        "  print(outt.format(float(err1), float(err2),float(err3)))\n",
        "  j+=1\n",
        "  if(j-1==0):\n",
        "    pickle.dump(MLR, open('MLR_5.pkl', 'wb'))\n",
        "  if(j-1==1):\n",
        "    pickle.dump(MLR, open('MLR_10.pkl', 'wb'))\n",
        "  if(j-1==2):\n",
        "    pickle.dump(MLR, open('MLR_15.pkl', 'wb'))\n",
        "  if(j-1==3):\n",
        "    pickle.dump(MLR, open('MLR_20.pkl', 'wb'))"
      ],
      "metadata": {
        "id": "Fuj4IaTGCK71",
        "colab": {
          "base_uri": "https://localhost:8080/"
        },
        "outputId": "8e621d72-a612-4520-a74b-bd51242e7112"
      },
      "execution_count": null,
      "outputs": [
        {
          "output_type": "stream",
          "name": "stdout",
          "text": [
            "window5\n",
            "Range of Closing price for Low:\n",
            "250.75 301.5525\n",
            "Range of Closing price for Mid:\n",
            "301.5525 352.35499999999996\n",
            "Range of Closing price for High:\n",
            "352.35499999999996 395.9\n",
            "Test Error on different ranges of close price :\n",
            "6.75 9.03 5.38\n",
            "window10\n",
            "Range of Closing price for Low:\n",
            "255.7 311.1925\n",
            "Range of Closing price for Mid:\n",
            "311.1925 366.685\n",
            "Range of Closing price for High:\n",
            "366.685 414.25\n",
            "Test Error on different ranges of close price :\n",
            "6.73 9.05 6.38\n",
            "window15\n",
            "Range of Closing price for Low:\n",
            "255.7 311.385\n",
            "Range of Closing price for Mid:\n",
            "311.385 367.07\n",
            "Range of Closing price for High:\n",
            "367.07 414.8\n",
            "Test Error on different ranges of close price :\n",
            "6.66 9.78 7.83\n",
            "window20\n",
            "Range of Closing price for Low:\n",
            "255.7 311.385\n",
            "Range of Closing price for Mid:\n",
            "311.385 367.07\n",
            "Range of Closing price for High:\n",
            "367.07 414.8\n",
            "Test Error on different ranges of close price :\n",
            "7.63 9.61 8.11\n"
          ]
        }
      ]
    },
    {
      "cell_type": "code",
      "source": [
        "### Plotting the errors for Window Sizes\n",
        "\n",
        "plt.plot(windows,trainerr,label = \"train error\")\n",
        "plt.plot(windows,valerr,label = \"Validation error\")\n",
        "plt.plot(windows,tsterr,label = \"test error\")\n",
        "plt.xlabel(\"Window Size\")\n",
        "plt.legend()\n",
        "plt.show()"
      ],
      "metadata": {
        "id": "h5CbVC3TJmOU",
        "colab": {
          "base_uri": "https://localhost:8080/",
          "height": 279
        },
        "outputId": "b5f5fbe1-6ba6-46d4-817c-1662f2553040"
      },
      "execution_count": null,
      "outputs": [
        {
          "output_type": "display_data",
          "data": {
            "text/plain": [
              "<Figure size 432x288 with 1 Axes>"
            ],
            "image/png": "[encoded data removed]"
          },
          "metadata": {
            "needs_background": "light"
          }
        }
      ]
    },
    {
      "cell_type": "code",
      "source": [
        "### Plotting test error on different ranges\n",
        "\n",
        "plt.plot(windows,error_on_low,label = \"Test error on Low range\")\n",
        "plt.plot(windows,error_on_mid,label = \"Test error on Mid range\")\n",
        "plt.plot(windows,error_on_high,label = \"Test error on High range\")\n",
        "plt.xlabel(\"Window Size\")\n",
        "plt.legend()\n",
        "plt.show()"
      ],
      "metadata": {
        "id": "pwPLrr7ivrnR",
        "colab": {
          "base_uri": "https://localhost:8080/",
          "height": 283
        },
        "outputId": "718fca1b-616b-4da8-f01a-2b5712059999"
      },
      "execution_count": null,
      "outputs": [
        {
          "output_type": "display_data",
          "data": {
            "text/plain": [
              "<Figure size 432x288 with 1 Axes>"
            ],
            "image/png": "[encoded data removed]"
          },
          "metadata": {
            "needs_background": "light"
          }
        }
      ]
    },
    {
      "cell_type": "code",
      "source": [
        "### Printing the error\n",
        "trainerr = [round(x,2) for x in trainerr]\n",
        "tsterr = [round(x,2) for x in tsterr]\n",
        "valerr = [round(x,2) for x in valerr]\n",
        "print(trainerr)\n",
        "print(tsterr)\n",
        "print(valerr)"
      ],
      "metadata": {
        "id": "fqSvU-HDv7tK",
        "colab": {
          "base_uri": "https://localhost:8080/"
        },
        "outputId": "41005517-56f5-4d5c-e3c2-827b701b090f"
      },
      "execution_count": null,
      "outputs": [
        {
          "output_type": "stream",
          "name": "stdout",
          "text": [
            "[18.11, 17.84, 17.5, 16.86]\n",
            "[7.39, 7.57, 8.05, 8.44]\n",
            "[95.13, 98.0, 99.42, 100.35]\n"
          ]
        }
      ]
    },
    {
      "cell_type": "code",
      "source": [
        "### Performing Multilinear Regression with Ridge Regularization for different time windows\n",
        "\n",
        "windows = [5*i for i in range(1,5)]\n",
        "tsterr, trainerr,valerr = [], [], []\n",
        "error_on_low=[]\n",
        "error_on_mid=[]\n",
        "error_on_high=[]\n",
        "j = 0;\n",
        "\n",
        "for window in windows:\n",
        "  #Transform Function for making windows\n",
        "  def transform(dfscaled, win):\n",
        "    df2 = deepcopy(dfscaled)\n",
        "    col = df2.columns\n",
        "    for i in range(2, win+1):\n",
        "      for c in col:\n",
        "        df2[c+str(i)] = df2[c].shift(-(i-1)) #stepback i-1 times\n",
        "        df2['Close'+str(win+1)] = df2['Close'].shift(-(win)) #stepback i-1 times\n",
        "    return df2\n",
        "  print(\"window\"+str(window))\n",
        "  df2 = transform(dfscaled, window)\n",
        "  df2 = df2.dropna()\n",
        "  # print(df2)\n",
        "  # df2.drop(columns = [])\n",
        "    \n",
        "  MLR = Ridge(alpha = 1.5,max_iter = 1500)\n",
        "  trainn = deepcopy(df2.loc[0:1900])\n",
        "  valt = deepcopy(df2.loc[1900:2100])\n",
        "  testt = deepcopy(df2.loc[2100:2300])\n",
        "\n",
        "  trainnY = trainn[\"Close\"+str(window+1)].values\n",
        "  del trainn[\"Close\"+str(window+1)]\n",
        "  trainn.drop(columns=[])\n",
        "  trainnX = trainn.values.astype(np.float64)\n",
        "  valtY = testt[\"Close\"+str(window+1)].values\n",
        "  del valt[\"Close\"+str(window+1)]\n",
        "  valtX = valt.values.astype(np.float64)\n",
        "  testtY = testt[\"Close\"+str(window+1)].values\n",
        "  del testt[\"Close\"+str(window+1)]\n",
        "  testtX = testt.values.astype(np.float64) \n",
        "\n",
        "  # print(\"trainnx\")\n",
        "  # print(trainnX)\n",
        "  # print(trainnX.shape)\n",
        "  # print(\"trainny\")\n",
        "  # print(trainnY)\n",
        "  # print(\"testtx\")\n",
        "  # print(testtX)\n",
        "  # print(testtX.shape)\n",
        "  # print(\"testtY\")\n",
        "  # print(testtY)\n",
        "  modela = PCA(n_components = 35*(j+1))\n",
        "  # trainnX=modela.fit_transform(trainnX)\n",
        "  MLR.fit(trainnX, trainnY)\n",
        "  trainp = MLR.predict(trainnX)\n",
        "  # testtX = modela.transform(testtX)\n",
        "  # valtX = modela.transform(valtX)\n",
        "\n",
        "  testp = MLR.predict(testtX)\n",
        "  valp = MLR.predict(valtX)\n",
        "\n",
        "  trainerr.append(sqrt(mean_squared_error(trainnY, trainp)))\n",
        "  tsterr.append(sqrt(mean_squared_error(testtY, testp))) \n",
        "  valerr.append(sqrt(mean_squared_error(valtY,valp)))\n",
        "  print(\"Range of Closing price for Low:\")\n",
        "  err1 = calculate_rmse_range(testtY,testp,0,0.35)\n",
        "  print(\"Range of Closing price for Mid:\")\n",
        "  err2 = calculate_rmse_range(testtY,testp,0.35,0.7)\n",
        "  print(\"Range of Closing price for High:\")\n",
        "  err3 = calculate_rmse_range(testtY,testp,0.7,1)\n",
        "  error_on_low.append(err1)\n",
        "  error_on_mid.append(err2)\n",
        "  error_on_high.append(err3)\n",
        "  #print(testp)\n",
        "  #print(testpp)\n",
        "\n",
        "  print(\"Test Error on different ranges of close price :\")\n",
        "  outt = \"{:.2f} {:.2f} {:.2f}\"\n",
        "  print(outt.format(float(err1), float(err2),float(err3)))\n",
        "  j+=1\n",
        "  if(j-1==0):\n",
        "    pickle.dump(MLR, open('MLR_Ridge_5.pkl', 'wb'))\n",
        "  if(j-1==1):\n",
        "    pickle.dump(MLR, open('MLR_Ridge_10.pkl', 'wb'))\n",
        "  if(j-1==2):\n",
        "    pickle.dump(MLR, open('MLR_Ridge_15.pkl', 'wb'))\n",
        "  if(j-1==3):\n",
        "    pickle.dump(MLR, open('MLR_Ridge_20.pkl', 'wb'))"
      ],
      "metadata": {
        "id": "NkuZxDn0wRgy",
        "colab": {
          "base_uri": "https://localhost:8080/"
        },
        "outputId": "e1cac7fc-b31c-4ed5-8c43-8d570ecde80a"
      },
      "execution_count": null,
      "outputs": [
        {
          "output_type": "stream",
          "name": "stdout",
          "text": [
            "window5\n",
            "Range of Closing price for Low:\n",
            "250.75 301.5525\n",
            "Range of Closing price for Mid:\n",
            "301.5525 352.35499999999996\n",
            "Range of Closing price for High:\n",
            "352.35499999999996 395.9\n",
            "Test Error on different ranges of close price :\n",
            "6.79 8.97 5.20\n",
            "window10\n",
            "Range of Closing price for Low:\n",
            "255.7 311.1925\n",
            "Range of Closing price for Mid:\n",
            "311.1925 366.685\n",
            "Range of Closing price for High:\n",
            "366.685 414.25\n",
            "Test Error on different ranges of close price :\n",
            "6.68 9.18 6.41\n",
            "window15\n",
            "Range of Closing price for Low:\n",
            "255.7 311.385\n",
            "Range of Closing price for Mid:\n",
            "311.385 367.07\n",
            "Range of Closing price for High:\n",
            "367.07 414.8\n",
            "Test Error on different ranges of close price :\n",
            "6.56 9.51 7.44\n",
            "window20\n",
            "Range of Closing price for Low:\n",
            "255.7 311.385\n",
            "Range of Closing price for Mid:\n",
            "311.385 367.07\n",
            "Range of Closing price for High:\n",
            "367.07 414.8\n",
            "Test Error on different ranges of close price :\n",
            "7.61 9.60 7.84\n"
          ]
        }
      ]
    },
    {
      "cell_type": "code",
      "source": [
        "plt.plot(windows,error_on_low,label = \"Test error on Low range\")\n",
        "plt.plot(windows,error_on_mid,label = \"Test error on Mid range\")\n",
        "plt.plot(windows,error_on_high,label = \"Test error on High range\")\n",
        "plt.xlabel(\"Window Size\")\n",
        "plt.legend()\n",
        "\n",
        "plt.show()"
      ],
      "metadata": {
        "id": "gVPhP-IGw73_",
        "colab": {
          "base_uri": "https://localhost:8080/",
          "height": 279
        },
        "outputId": "9b7cd9a3-4ef3-4889-c7ac-660f949b5e39"
      },
      "execution_count": null,
      "outputs": [
        {
          "output_type": "display_data",
          "data": {
            "text/plain": [
              "<Figure size 432x288 with 1 Axes>"
            ],
            "image/png": "[encoded data removed]"
          },
          "metadata": {
            "needs_background": "light"
          }
        }
      ]
    },
    {
      "cell_type": "code",
      "source": [
        "trainerr = [round(x,2) for x in trainerr]\n",
        "tsterr = [round(x,2) for x in tsterr]\n",
        "valerr = [round(x,2) for x in valerr]\n",
        "print(trainerr)\n",
        "print(tsterr)\n",
        "print(valerr)\n",
        "# sorted(testtY)"
      ],
      "metadata": {
        "id": "FX5KzYgZBiUq",
        "colab": {
          "base_uri": "https://localhost:8080/"
        },
        "outputId": "090bcaa4-61e3-4afa-ea4b-ef88c9fe1477"
      },
      "execution_count": null,
      "outputs": [
        {
          "output_type": "stream",
          "name": "stdout",
          "text": [
            "[18.1, 17.8, 17.46, 16.81]\n",
            "[7.35, 7.61, 7.83, 8.38]\n",
            "[94.93, 98.07, 99.18, 100.25]\n"
          ]
        }
      ]
    }
  ]
}